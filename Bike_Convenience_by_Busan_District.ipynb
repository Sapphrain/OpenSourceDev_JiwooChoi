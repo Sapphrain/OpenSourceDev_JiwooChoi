{
  "nbformat": 4,
  "nbformat_minor": 0,
  "metadata": {
    "colab": {
      "provenance": [],
      "authorship_tag": "ABX9TyOOvJGj/reW3nnWLSVI/XQI",
      "include_colab_link": true
    },
    "kernelspec": {
      "name": "python3",
      "display_name": "Python 3"
    },
    "language_info": {
      "name": "python"
    }
  },
  "cells": [
    {
      "cell_type": "markdown",
      "metadata": {
        "id": "view-in-github",
        "colab_type": "text"
      },
      "source": [
        "<a href=\"https://colab.research.google.com/github/Sapphrain/OpenSourceDev_JiwooChoi/blob/main/Bike_Convenience_by_Busan_District.ipynb\" target=\"_parent\"><img src=\"https://colab.research.google.com/assets/colab-badge.svg\" alt=\"Open In Colab\"/></a>"
      ]
    },
    {
      "cell_type": "code",
      "source": [
        "!pip install koreanize-matplotlib\n",
        "import koreanize_matplotlib"
      ],
      "metadata": {
        "colab": {
          "base_uri": "https://localhost:8080/"
        },
        "id": "6gT50BGxvUMX",
        "outputId": "90e94d8f-e871-444e-fe2b-620d44193486"
      },
      "execution_count": 1,
      "outputs": [
        {
          "output_type": "stream",
          "name": "stdout",
          "text": [
            "Collecting koreanize-matplotlib\n",
            "  Downloading koreanize_matplotlib-0.1.1-py3-none-any.whl.metadata (992 bytes)\n",
            "Requirement already satisfied: matplotlib in /usr/local/lib/python3.11/dist-packages (from koreanize-matplotlib) (3.10.0)\n",
            "Requirement already satisfied: contourpy>=1.0.1 in /usr/local/lib/python3.11/dist-packages (from matplotlib->koreanize-matplotlib) (1.3.2)\n",
            "Requirement already satisfied: cycler>=0.10 in /usr/local/lib/python3.11/dist-packages (from matplotlib->koreanize-matplotlib) (0.12.1)\n",
            "Requirement already satisfied: fonttools>=4.22.0 in /usr/local/lib/python3.11/dist-packages (from matplotlib->koreanize-matplotlib) (4.58.1)\n",
            "Requirement already satisfied: kiwisolver>=1.3.1 in /usr/local/lib/python3.11/dist-packages (from matplotlib->koreanize-matplotlib) (1.4.8)\n",
            "Requirement already satisfied: numpy>=1.23 in /usr/local/lib/python3.11/dist-packages (from matplotlib->koreanize-matplotlib) (2.0.2)\n",
            "Requirement already satisfied: packaging>=20.0 in /usr/local/lib/python3.11/dist-packages (from matplotlib->koreanize-matplotlib) (24.2)\n",
            "Requirement already satisfied: pillow>=8 in /usr/local/lib/python3.11/dist-packages (from matplotlib->koreanize-matplotlib) (11.2.1)\n",
            "Requirement already satisfied: pyparsing>=2.3.1 in /usr/local/lib/python3.11/dist-packages (from matplotlib->koreanize-matplotlib) (3.2.3)\n",
            "Requirement already satisfied: python-dateutil>=2.7 in /usr/local/lib/python3.11/dist-packages (from matplotlib->koreanize-matplotlib) (2.9.0.post0)\n",
            "Requirement already satisfied: six>=1.5 in /usr/local/lib/python3.11/dist-packages (from python-dateutil>=2.7->matplotlib->koreanize-matplotlib) (1.17.0)\n",
            "Downloading koreanize_matplotlib-0.1.1-py3-none-any.whl (7.9 MB)\n",
            "\u001b[2K   \u001b[90m━━━━━━━━━━━━━━━━━━━━━━━━━━━━━━━━━━━━━━━━\u001b[0m \u001b[32m7.9/7.9 MB\u001b[0m \u001b[31m34.5 MB/s\u001b[0m eta \u001b[36m0:00:00\u001b[0m\n",
            "\u001b[?25hInstalling collected packages: koreanize-matplotlib\n",
            "Successfully installed koreanize-matplotlib-0.1.1\n"
          ]
        }
      ]
    },
    {
      "cell_type": "code",
      "source": [
        "import os\n",
        "import pandas as pd\n",
        "import json\n",
        "\n",
        "# 데이터 디렉터리\n",
        "data_dir = '/content/bike_data'\n",
        "data_files = [os.path.join(data_dir, f) for f in os.listdir(data_dir) if f.endswith('.csv')]\n",
        "\n",
        "# CSV 병합 함수\n",
        "def load_and_combine_data(files):\n",
        "    all_data = []\n",
        "    for f in files:\n",
        "        try:\n",
        "            df = pd.read_csv(f, encoding='cp949')\n",
        "            all_data.append(df)\n",
        "        except Exception as e:\n",
        "            print(f\"Error loading {f}: {e}\")\n",
        "    return pd.concat(all_data, ignore_index=True) if all_data else pd.DataFrame()\n",
        "\n",
        "# 데이터 로딩\n",
        "combined_df = load_and_combine_data(data_files)\n",
        "\n",
        "# 구별 데이터 분석\n",
        "if 'district' in combined_df.columns:\n",
        "    district_counts = combined_df['district'].value_counts().reset_index()\n",
        "    district_counts.columns = ['district', 'count']\n",
        "else:\n",
        "    district_counts = pd.DataFrame(columns=['district', 'count'])\n",
        "\n",
        "# 위경도 추출\n",
        "if 'latitude' in combined_df.columns and 'longitude' in combined_df.columns:\n",
        "    marker_data = combined_df[['latitude', 'longitude']].dropna().to_dict('records')\n",
        "else:\n",
        "    marker_data = []\n",
        "\n",
        "# HTML 문자열 생성\n",
        "html_content = f\"\"\"\n",
        "<!DOCTYPE html>\n",
        "<html>\n",
        "<head>\n",
        "    <title>부산시 자전거 이용 분석 지도</title>\n",
        "    <meta charset=\"utf-8\" />\n",
        "    <meta name=\"viewport\" content=\"width=device-width, initial-scale=1.0\">\n",
        "    <link rel=\"stylesheet\" href=\"https://unpkg.com/leaflet@1.7.1/dist/leaflet.css\" />\n",
        "    <script src=\"https://unpkg.com/leaflet@1.7.1/dist/leaflet.js\"></script>\n",
        "    <style>#mapid {{ height: 600px; }}</style>\n",
        "</head>\n",
        "<body>\n",
        "\n",
        "    <h1>🚲 부산시 자전거 이용 분석 지도</h1>\n",
        "    <div id=\"mapid\"></div>\n",
        "\n",
        "    <h2>구별 자전거 관련 데이터 개수</h2>\n",
        "    <div id=\"analysis-results\"><p>Loading...</p></div>\n",
        "\n",
        "    <script>\n",
        "        const map = L.map('mapid').setView([35.1796, 129.0756], 12);\n",
        "\n",
        "        const vworldApiKey = 'E0DE6BCD-5494-347B-B25B-2B60F252D4C8';\n",
        "        const vworldUrl = \"http://xdworld.vworld.kr:8080/2d/Base/202002/{{z}}/{{x}}/{{y}}.png?key=\" + vworldApiKey;\n",
        "\n",
        "        L.tileLayer(vworldUrl, {{\n",
        "            maxZoom: 19,\n",
        "            attribution: '&copy; <a href=\"http://www.vworld.kr/\">VWorld</a>'\n",
        "        }}).addTo(map);\n",
        "\n",
        "        const markerData = {json.dumps(marker_data)};\n",
        "        markerData.forEach(point => {{\n",
        "            if (point.latitude && point.longitude) {{\n",
        "                L.marker([point.latitude, point.longitude]).addTo(map)\n",
        "                    .bindPopup('자전거 관련 위치');\n",
        "            }}\n",
        "        }});\n",
        "\n",
        "        const analysisResults = {json.dumps(district_counts.to_dict('records'))};\n",
        "        const analysisDiv = document.getElementById('analysis-results');\n",
        "        analysisDiv.innerHTML = '<ul>';\n",
        "        analysisResults.forEach(item => {{\n",
        "            analysisDiv.innerHTML += '<li>' + item.district + ': ' + item.count + '개</li>';\n",
        "        }});\n",
        "        analysisDiv.innerHTML += '</ul>';\n",
        "    </script>\n",
        "\n",
        "</body>\n",
        "</html>\n",
        "\"\"\"\n",
        "\n",
        "# HTML 저장\n",
        "with open('bike_map.html', 'w', encoding='utf-8') as f:\n",
        "    f.write(html_content)\n"
      ],
      "metadata": {
        "colab": {
          "base_uri": "https://localhost:8080/"
        },
        "id": "b--K33i303vT",
        "outputId": "913b858d-385d-476c-8e02-5b1ffb89c36f"
      },
      "execution_count": 21,
      "outputs": [
        {
          "output_type": "stream",
          "name": "stdout",
          "text": [
            "Error loading /content/bike_data/부산광역시_동래구_자전거도로_20241114.csv: 'cp949' codec can't decode byte 0xec in position 6: illegal multibyte sequence\n",
            "Error loading /content/bike_data/부산광역시_부산진구_자전거도로_20241206.csv: 'cp949' codec can't decode byte 0xec in position 6: illegal multibyte sequence\n",
            "Error loading /content/bike_data/부산광역시_금정구_자전거도로_20241127.csv: 'cp949' codec can't decode byte 0xec in position 6: illegal multibyte sequence\n",
            "Error loading /content/bike_data/부산광역시_자전거대여소_20240820.csv: 'cp949' codec can't decode byte 0xec in position 6: illegal multibyte sequence\n",
            "Error loading /content/bike_data/부산광역시_강서구_자전거도로_20250218.csv: 'cp949' codec can't decode byte 0xec in position 6: illegal multibyte sequence\n",
            "Error loading /content/bike_data/부산광역시_연제구_자전거도로_20240925.csv: 'cp949' codec can't decode byte 0xec in position 6: illegal multibyte sequence\n",
            "Error loading /content/bike_data/부산광역시_해운대구_자전거대여소_20250109.csv: 'cp949' codec can't decode byte 0xec in position 6: illegal multibyte sequence\n",
            "Error loading /content/bike_data/부산광역시_금정구_자전거대여소_20241125.csv: 'cp949' codec can't decode byte 0xec in position 6: illegal multibyte sequence\n",
            "Error loading /content/bike_data/부산광역시_수영구_자전거대여소_20241223.csv: 'cp949' codec can't decode byte 0xec in position 6: illegal multibyte sequence\n",
            "Error loading /content/bike_data/부산광역시_사상구_자전거도로_20240926.csv: 'cp949' codec can't decode byte 0xec in position 6: illegal multibyte sequence\n",
            "Error loading /content/bike_data/부산광역시_해운대구_자전거도로_20240827.csv: 'cp949' codec can't decode byte 0xec in position 6: illegal multibyte sequence\n",
            "Error loading /content/bike_data/부산광역시_동구_자전거도로_20240813.csv: 'cp949' codec can't decode byte 0xec in position 6: illegal multibyte sequence\n",
            "Error loading /content/bike_data/부산광역시_북구_자전거도로_20240801.csv: 'cp949' codec can't decode byte 0xec in position 6: illegal multibyte sequence\n",
            "Error loading /content/bike_data/부산광역시_서구_자전거도로_20240901.csv: 'cp949' codec can't decode byte 0xec in position 6: illegal multibyte sequence\n",
            "Error loading /content/bike_data/부산광역시_사하구_자전거도로_20240816.csv: 'cp949' codec can't decode byte 0xec in position 6: illegal multibyte sequence\n"
          ]
        }
      ]
    }
  ]
}